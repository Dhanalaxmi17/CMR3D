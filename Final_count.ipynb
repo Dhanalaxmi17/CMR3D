{
 "cells": [
  {
   "cell_type": "code",
   "execution_count": 30,
   "metadata": {},
   "outputs": [],
   "source": [
    "import os\n",
    "import numpy as np\n",
    "import torch"
   ]
  },
  {
   "cell_type": "code",
   "execution_count": 31,
   "metadata": {},
   "outputs": [],
   "source": [
    "VAL_SCAN_NAMES = [line.rstrip() for line in open('/home/dhanalaxmi.gaddam/3D_New/scannet/meta_data/scannetv2_val.txt')] \n",
    "OBJ_CLASS_IDS = np.array([3,4,5,6,7,8,9,10,11,12,14,16,24,28,33,34,36,39])\n",
    "GT_PATH = '/home/dhanalaxmi.gaddam/3D_New/scannet/scannet_train_detection_data' # path of data dumped with scripts in scannet folder \n",
    "PRED_PATH = '/home/dhanalaxmi.gaddam/3D_New/MRCH3D/11_May/result' # path of predictions "
   ]
  },
  {
   "cell_type": "code",
   "execution_count": 32,
   "metadata": {},
   "outputs": [],
   "source": [
    "def select_bbox(bboxes):\n",
    "    choose_ids = []\n",
    "    for i in range(bboxes.shape[0]):\n",
    "        if bboxes[i,-1] in OBJ_CLASS_IDS:\n",
    "            choose_ids.append(i)\n",
    "    bboxes = bboxes[choose_ids]\n",
    "    return bboxes"
   ]
  },
  {
   "cell_type": "code",
   "execution_count": 33,
   "metadata": {},
   "outputs": [],
   "source": [
    "\n",
    "def mrmse(non_zero,count_pred, count_gt):\n",
    "    ## compute mrmse\n",
    "    nzero_mask=torch.ones(len(count_gt))\n",
    "    if non_zero==1:\n",
    "        nzero_mask=torch.zeros(len(count_gt))\n",
    "        nzero_mask[count_gt!=0]=1\n",
    "    mrmse=torch.pow(count_pred - count_gt, 2)\n",
    "    mrmse = torch.mul(mrmse, nzero_mask)\n",
    "    mrmse = torch.sum(mrmse, 0)\n",
    "    nzero = torch.sum(nzero_mask, 0)\n",
    "    mrmse = torch.div(mrmse, nzero)\n",
    "    mrmse = torch.sqrt(mrmse)\n",
    "#     print(mrmse.size())\n",
    "    mrmse = torch.mean(mrmse)\n",
    "    return mrmse\n",
    "\n",
    "def rel_mrmse(non_zero,count_pred, count_gt):\n",
    "    ## compute relative mrmse\n",
    "    nzero_mask=torch.ones(len(count_gt))\n",
    "    if non_zero==1:\n",
    "        nzero_mask=torch.zeros(len(count_gt))\n",
    "        nzero_mask[count_gt!=0]=1\n",
    "    num = torch.pow(count_pred - count_gt, 2)\n",
    "    denom = count_gt.clone()\n",
    "    denom = denom+1\n",
    "    rel_mrmse = torch.div(num, denom)\n",
    "    rel_mrmse = torch.mul(rel_mrmse, nzero_mask)\n",
    "    rel_mrmse = torch.sum(rel_mrmse, 0)\n",
    "    nzero = torch.sum(nzero_mask, 0)\n",
    "    rel_mrmse = torch.div(rel_mrmse, nzero)\n",
    "    rel_mrmse = torch.sqrt(rel_mrmse)\n",
    "    rel_mrmse = torch.mean(rel_mrmse)\n",
    "    return rel_mrmse"
   ]
  },
  {
   "cell_type": "code",
   "execution_count": 34,
   "metadata": {},
   "outputs": [],
   "source": [
    "def export_one_scan(scan_name):\n",
    "    gt_bbox = np.load(os.path.join(GT_PATH, scan_name+'_all_noangle_40cls.npy'))\n",
    "    gt_bbox = select_bbox(np.unique(gt_bbox,axis=0))\n",
    "    pred_proposals = np.load(os.path.join(PRED_PATH, 'opt'+scan_name+'_nms.npy'))\n",
    "    \n",
    "    gt_count = []\n",
    "    pred_count = []\n",
    "\n",
    "    for i in range(gt_bbox.shape[0]):\n",
    "        x = int(gt_bbox[i,-1])\n",
    "        gt_count.append(x)\n",
    "        \n",
    "\n",
    "    for i in range(pred_proposals.shape[0]):\n",
    "        x = int(OBJ_CLASS_IDS[int(pred_proposals[i,-1])-1])\n",
    "        pred_count.append(x)\n",
    "    \n",
    "    return gt_count, pred_count"
   ]
  },
  {
   "cell_type": "code",
   "execution_count": 35,
   "metadata": {},
   "outputs": [
    {
     "name": "stdout",
     "output_type": "stream",
     "text": [
      "[[ 3.  3.  0. ...  0.  3.  4.]\n",
      " [ 0.  0.  0. ...  0.  0.  0.]\n",
      " [11. 10. 22. ...  0.  0.  0.]\n",
      " ...\n",
      " [ 1.  1.  0. ...  0.  0.  0.]\n",
      " [ 0.  0.  0. ...  1.  0.  0.]\n",
      " [ 2.  3.  0. ...  1.  5.  5.]]\n",
      "[[ 1.  4.  0. ...  0.  3.  2.]\n",
      " [ 0.  0.  0. ...  0.  0.  0.]\n",
      " [10. 10. 21. ...  0.  0.  1.]\n",
      " ...\n",
      " [ 0.  1.  0. ...  0.  0.  0.]\n",
      " [ 0.  0.  0. ...  1.  0.  0.]\n",
      " [ 1.  2.  0. ...  1.  2.  5.]]\n"
     ]
    }
   ],
   "source": [
    "\n",
    "N = len(VAL_SCAN_NAMES)\n",
    "cat = len(OBJ_CLASS_IDS)\n",
    "c_ik = np.zeros((cat,N))\n",
    "c_ik_hat_h3d = np.zeros((cat,N))\n",
    "c = 0\n",
    "p = 0\n",
    "for ind, k in enumerate(OBJ_CLASS_IDS):\n",
    "\n",
    "    for i, scan_name in enumerate(sorted(VAL_SCAN_NAMES)):\n",
    "        gt_objects, h3d_pred_objects = export_one_scan(scan_name)\n",
    "        c = gt_objects.count(k)\n",
    "        p = h3d_pred_objects.count(k)\n",
    "        c_ik[ind,i] = c\n",
    "        c_ik_hat_h3d[ind,i] = p\n",
    "print(c_ik)\n",
    "print(c_ik_hat_h3d)\n",
    "\n"
   ]
  },
  {
   "cell_type": "markdown",
   "metadata": {},
   "source": []
  },
  {
   "cell_type": "code",
   "execution_count": 36,
   "metadata": {},
   "outputs": [],
   "source": [
    "gc = np.sum(c_ik, axis=0)\n",
    "pred_c = np.sum(c_ik_hat_h3d, axis = 0)"
   ]
  },
  {
   "cell_type": "markdown",
   "metadata": {},
   "source": [
    "Class Agnostic counting : RMSE and Rel_RMSE"
   ]
  },
  {
   "cell_type": "code",
   "execution_count": 37,
   "metadata": {},
   "outputs": [
    {
     "data": {
      "text/plain": [
       "(tensor(4.6547), tensor(1.0464))"
      ]
     },
     "execution_count": 37,
     "metadata": {},
     "output_type": "execute_result"
    }
   ],
   "source": [
    "rmse_1 = mrmse(1, torch.from_numpy(pred_c).float(), torch.from_numpy(gc).float())\n",
    "rel_rmse_1 = rel_mrmse(1, torch.from_numpy(pred_c).float(), torch.from_numpy(gc).float())\n",
    "rmse_1, rel_rmse_1"
   ]
  },
  {
   "cell_type": "markdown",
   "metadata": {},
   "source": [
    "Class specific counting : RMSE and Rel_RMSE"
   ]
  },
  {
   "cell_type": "code",
   "execution_count": 38,
   "metadata": {},
   "outputs": [
    {
     "name": "stdout",
     "output_type": "stream",
     "text": [
      "tensor(0.8498) tensor(1.2019) tensor(0.4665) tensor(0.6597)\n",
      "tensor(0.6236) tensor(0.8819) tensor(0.3600) tensor(0.5092)\n",
      "tensor(0.2357) tensor(0.5774) tensor(0.0491) tensor(0.1204)\n",
      "tensor(1.9720) tensor(4.0620) tensor(0.7693) tensor(1.2895)\n",
      "tensor(2.1985) tensor(4.5552) tensor(0.8232) tensor(1.4315)\n",
      "tensor(0.4714) tensor(0.5345) tensor(0.3788) tensor(0.2887)\n",
      "tensor(0.5774) tensor(0.8452) tensor(0.3932) tensor(0.5047)\n",
      "tensor(0.5270) tensor(0.7071) tensor(0.3991) tensor(0.3801)\n",
      "tensor(1.1547) tensor(2.) tensor(0.5401) tensor(0.9354)\n",
      "tensor(1.5456) tensor(2.6458) tensor(0.6832) tensor(1.1107)\n",
      "tensor(1.5635) tensor(2.7080) tensor(0.6545) tensor(1.1336)\n",
      "tensor(0.5774) tensor(0.6455) tensor(0.4139) tensor(0.4167)\n",
      "tensor(0.5270) tensor(0.6325) tensor(0.3727) tensor(0.3873)\n",
      "tensor(0.6236) tensor(0.7746) tensor(0.4357) tensor(0.4916)\n",
      "tensor(0.9428) tensor(1.2649) tensor(0.7164) tensor(0.4976)\n",
      "tensor(1.5811) tensor(2.7568) tensor(0.8408) tensor(1.0702)\n",
      "tensor(0.8165) tensor(1.2536) tensor(0.4073) tensor(0.5326)\n",
      "tensor(0.5774) tensor(0.8165) tensor(0.4714) tensor(0.5774)\n"
     ]
    }
   ],
   "source": [
    "for i in range(c_ik.shape[0]):\n",
    "    g_cat_1 = c_ik[:,i]\n",
    "    p_cat_1 = c_ik_hat_h3d[:,i]\n",
    "    rmse_cat0 = mrmse(0, torch.from_numpy(p_cat_1).float(), torch.from_numpy(g_cat_1).float())\n",
    "    rmse_cat1 = mrmse(1, torch.from_numpy(p_cat_1).float(), torch.from_numpy(g_cat_1).float())\n",
    "    rel_rmse_cat0 = rel_mrmse(0, torch.from_numpy(p_cat_1).float(), torch.from_numpy(g_cat_1).float())\n",
    "    rel_rmse_cat1 = rel_mrmse(1, torch.from_numpy(p_cat_1).float(), torch.from_numpy(g_cat_1).float())\n",
    "    print(rmse_cat0, rmse_cat1, rel_rmse_cat0, rel_rmse_cat1)"
   ]
  },
  {
   "cell_type": "code",
   "execution_count": null,
   "metadata": {},
   "outputs": [],
   "source": []
  }
 ],
 "metadata": {
  "interpreter": {
   "hash": "99bff8890579d25f7b3abfa593f2f7aabac0c31f226abd2c8fea4f05ca8d9199"
  },
  "kernelspec": {
   "display_name": "Python 3.8.8 64-bit ('anaconda3': virtualenv)",
   "name": "python3"
  },
  "language_info": {
   "name": "python",
   "version": ""
  }
 },
 "nbformat": 4,
 "nbformat_minor": 5
}